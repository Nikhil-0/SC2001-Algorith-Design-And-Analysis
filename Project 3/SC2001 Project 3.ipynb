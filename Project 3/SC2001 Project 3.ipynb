{
 "cells": [
  {
   "cell_type": "markdown",
   "id": "a6562944",
   "metadata": {},
   "source": [
    "# Task 1: Recursive Definition for Unbounded Knapsack\n",
    " \n",
    "**Base Case:**\n",
    "- $P(C) = 0$, if $C = 0$ or $C < \\min(w_0, w_1, \\ldots, w_{n-1})$\n",
    " \n",
    "**Recursive Case:**\n",
    "- $P(C) = \\max\\limits_{i \\in \\{0,1,\\ldots,n-1\\},\\ w_i \\leq C} \\left[ P(C - w_i) + p_i \\right]$\n",
    " \n",
    "**Explanation:**\n",
    "- When the capacity $C$ is 0 or less than the smallest object weight, no objects can be packed, so the profit is 0.\n",
    "- To find the maximum profit for capacity $C$, consider all object types $i$ where $w_i \\leq C$ (objects that fit). For each such object, include one object of type $i$ in the knapsack (profit $p_i$), leaving remaining capacity $C - w_i$. Recursively solve for the remaining capacity. The total profit is $P(C - w_i) + p_i$, and we take the maximum over all such choices to get the optimal profit."
   ]
  }
 ],
 "metadata": {
  "kernelspec": {
   "display_name": "Python 3",
   "language": "python",
   "name": "python3"
  },
  "language_info": {
   "codemirror_mode": {
    "name": "ipython",
    "version": 3
   },
   "file_extension": ".py",
   "mimetype": "text/x-python",
   "name": "python",
   "nbconvert_exporter": "python",
   "pygments_lexer": "ipython3",
   "version": "3.13.7"
  }
 },
 "nbformat": 4,
 "nbformat_minor": 5
}
